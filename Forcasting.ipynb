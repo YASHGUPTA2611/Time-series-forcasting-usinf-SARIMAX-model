{
  "nbformat": 4,
  "nbformat_minor": 0,
  "metadata": {
    "colab": {
      "name": "YASH_Getzo_assignment.ipynb",
      "provenance": [],
      "collapsed_sections": []
    },
    "kernelspec": {
      "name": "python3",
      "display_name": "Python 3"
    },
    "language_info": {
      "name": "python"
    }
  },
  "cells": [
    {
      "cell_type": "markdown",
      "metadata": {
        "id": "OG88XUGAGCIO"
      },
      "source": [
        "# **Forcasting Sales for next 7 days**"
      ]
    },
    {
      "cell_type": "markdown",
      "metadata": {
        "id": "m7L9rC2dO_EV"
      },
      "source": [
        "## Importing all important librabries which will be in use"
      ]
    },
    {
      "cell_type": "code",
      "metadata": {
        "id": "F7gxsD0gGEQ3",
        "colab": {
          "base_uri": "https://localhost:8080/"
        },
        "outputId": "c333c4a5-f733-45e8-a0fb-36554048a7b4"
      },
      "source": [
        "import pandas as pd\n",
        "import matplotlib.pyplot as plt\n",
        "import statsmodels.api as sm\n",
        "from statsmodels.graphics.tsaplots import plot_acf,plot_pacf"
      ],
      "execution_count": null,
      "outputs": [
        {
          "output_type": "stream",
          "name": "stderr",
          "text": [
            "/usr/local/lib/python3.7/dist-packages/statsmodels/tools/_testing.py:19: FutureWarning: pandas.util.testing is deprecated. Use the functions in the public API at pandas.testing instead.\n",
            "  import pandas.util.testing as tm\n"
          ]
        }
      ]
    },
    {
      "cell_type": "markdown",
      "metadata": {
        "id": "zmEbahjjGO8R"
      },
      "source": [
        "##Reading the dataset using pandas Library"
      ]
    },
    {
      "cell_type": "code",
      "metadata": {
        "id": "os8lKkT5fnx1"
      },
      "source": [
        "data = pd.read_csv('/content/data.csv')"
      ],
      "execution_count": null,
      "outputs": []
    },
    {
      "cell_type": "markdown",
      "metadata": {
        "id": "MBIToaQdGT8I"
      },
      "source": [
        "Visualizing top 10 rows of our dataset"
      ]
    },
    {
      "cell_type": "code",
      "metadata": {
        "colab": {
          "base_uri": "https://localhost:8080/",
          "height": 357
        },
        "id": "5EI6VkaAf5a6",
        "outputId": "5d95dd7f-cdb9-4075-8227-17278a04ba5d"
      },
      "source": [
        "data.head(10)"
      ],
      "execution_count": null,
      "outputs": [
        {
          "output_type": "execute_result",
          "data": {
            "text/html": [
              "<div>\n",
              "<style scoped>\n",
              "    .dataframe tbody tr th:only-of-type {\n",
              "        vertical-align: middle;\n",
              "    }\n",
              "\n",
              "    .dataframe tbody tr th {\n",
              "        vertical-align: top;\n",
              "    }\n",
              "\n",
              "    .dataframe thead th {\n",
              "        text-align: right;\n",
              "    }\n",
              "</style>\n",
              "<table border=\"1\" class=\"dataframe\">\n",
              "  <thead>\n",
              "    <tr style=\"text-align: right;\">\n",
              "      <th></th>\n",
              "      <th>Unnamed: 0</th>\n",
              "      <th>date</th>\n",
              "      <th>dish_id_1</th>\n",
              "    </tr>\n",
              "  </thead>\n",
              "  <tbody>\n",
              "    <tr>\n",
              "      <th>0</th>\n",
              "      <td>0</td>\n",
              "      <td>2019-01-01</td>\n",
              "      <td>120</td>\n",
              "    </tr>\n",
              "    <tr>\n",
              "      <th>1</th>\n",
              "      <td>1</td>\n",
              "      <td>2019-01-02</td>\n",
              "      <td>316</td>\n",
              "    </tr>\n",
              "    <tr>\n",
              "      <th>2</th>\n",
              "      <td>2</td>\n",
              "      <td>2019-01-03</td>\n",
              "      <td>302</td>\n",
              "    </tr>\n",
              "    <tr>\n",
              "      <th>3</th>\n",
              "      <td>3</td>\n",
              "      <td>2019-01-04</td>\n",
              "      <td>334</td>\n",
              "    </tr>\n",
              "    <tr>\n",
              "      <th>4</th>\n",
              "      <td>4</td>\n",
              "      <td>2019-01-05</td>\n",
              "      <td>189</td>\n",
              "    </tr>\n",
              "    <tr>\n",
              "      <th>5</th>\n",
              "      <td>5</td>\n",
              "      <td>2019-01-06</td>\n",
              "      <td>109</td>\n",
              "    </tr>\n",
              "    <tr>\n",
              "      <th>6</th>\n",
              "      <td>6</td>\n",
              "      <td>2019-01-07</td>\n",
              "      <td>352</td>\n",
              "    </tr>\n",
              "    <tr>\n",
              "      <th>7</th>\n",
              "      <td>7</td>\n",
              "      <td>2019-01-08</td>\n",
              "      <td>361</td>\n",
              "    </tr>\n",
              "    <tr>\n",
              "      <th>8</th>\n",
              "      <td>8</td>\n",
              "      <td>2019-01-09</td>\n",
              "      <td>369</td>\n",
              "    </tr>\n",
              "    <tr>\n",
              "      <th>9</th>\n",
              "      <td>9</td>\n",
              "      <td>2019-01-10</td>\n",
              "      <td>393</td>\n",
              "    </tr>\n",
              "  </tbody>\n",
              "</table>\n",
              "</div>"
            ],
            "text/plain": [
              "   Unnamed: 0        date  dish_id_1\n",
              "0           0  2019-01-01        120\n",
              "1           1  2019-01-02        316\n",
              "2           2  2019-01-03        302\n",
              "3           3  2019-01-04        334\n",
              "4           4  2019-01-05        189\n",
              "5           5  2019-01-06        109\n",
              "6           6  2019-01-07        352\n",
              "7           7  2019-01-08        361\n",
              "8           8  2019-01-09        369\n",
              "9           9  2019-01-10        393"
            ]
          },
          "metadata": {},
          "execution_count": 3
        }
      ]
    },
    {
      "cell_type": "markdown",
      "metadata": {
        "id": "sJJIV2uFHT3c"
      },
      "source": [
        " Removing unwanted column which will be of no use"
      ]
    },
    {
      "cell_type": "code",
      "metadata": {
        "id": "RinDlKmwf6OW"
      },
      "source": [
        "data.drop(['Unnamed: 0'], axis=1,inplace=True)"
      ],
      "execution_count": null,
      "outputs": []
    },
    {
      "cell_type": "markdown",
      "metadata": {
        "id": "4xkmY4PwHcaY"
      },
      "source": [
        "Renaming the column names "
      ]
    },
    {
      "cell_type": "code",
      "metadata": {
        "id": "fF3JEWd0gCU2"
      },
      "source": [
        "data.columns = [\"Date\",\"Sales\"]"
      ],
      "execution_count": null,
      "outputs": []
    },
    {
      "cell_type": "code",
      "metadata": {
        "colab": {
          "base_uri": "https://localhost:8080/",
          "height": 203
        },
        "id": "kegNfXORgRA_",
        "outputId": "70a96631-915c-44af-b297-d6de0c41524e"
      },
      "source": [
        "# Again checking the top 5 rows\n",
        "data.head()"
      ],
      "execution_count": null,
      "outputs": [
        {
          "output_type": "execute_result",
          "data": {
            "text/html": [
              "<div>\n",
              "<style scoped>\n",
              "    .dataframe tbody tr th:only-of-type {\n",
              "        vertical-align: middle;\n",
              "    }\n",
              "\n",
              "    .dataframe tbody tr th {\n",
              "        vertical-align: top;\n",
              "    }\n",
              "\n",
              "    .dataframe thead th {\n",
              "        text-align: right;\n",
              "    }\n",
              "</style>\n",
              "<table border=\"1\" class=\"dataframe\">\n",
              "  <thead>\n",
              "    <tr style=\"text-align: right;\">\n",
              "      <th></th>\n",
              "      <th>Date</th>\n",
              "      <th>Sales</th>\n",
              "    </tr>\n",
              "  </thead>\n",
              "  <tbody>\n",
              "    <tr>\n",
              "      <th>0</th>\n",
              "      <td>2019-01-01</td>\n",
              "      <td>120</td>\n",
              "    </tr>\n",
              "    <tr>\n",
              "      <th>1</th>\n",
              "      <td>2019-01-02</td>\n",
              "      <td>316</td>\n",
              "    </tr>\n",
              "    <tr>\n",
              "      <th>2</th>\n",
              "      <td>2019-01-03</td>\n",
              "      <td>302</td>\n",
              "    </tr>\n",
              "    <tr>\n",
              "      <th>3</th>\n",
              "      <td>2019-01-04</td>\n",
              "      <td>334</td>\n",
              "    </tr>\n",
              "    <tr>\n",
              "      <th>4</th>\n",
              "      <td>2019-01-05</td>\n",
              "      <td>189</td>\n",
              "    </tr>\n",
              "  </tbody>\n",
              "</table>\n",
              "</div>"
            ],
            "text/plain": [
              "         Date  Sales\n",
              "0  2019-01-01    120\n",
              "1  2019-01-02    316\n",
              "2  2019-01-03    302\n",
              "3  2019-01-04    334\n",
              "4  2019-01-05    189"
            ]
          },
          "metadata": {},
          "execution_count": 6
        }
      ]
    },
    {
      "cell_type": "markdown",
      "metadata": {
        "id": "ty2tG9iEH1xI"
      },
      "source": [
        "# Checking Data types of all columns in the dataset"
      ]
    },
    {
      "cell_type": "code",
      "metadata": {
        "colab": {
          "base_uri": "https://localhost:8080/"
        },
        "id": "lrDD-OuGgR0V",
        "outputId": "6fc762fa-77c2-4132-8048-a737dd22a72e"
      },
      "source": [
        "data.info()"
      ],
      "execution_count": null,
      "outputs": [
        {
          "output_type": "stream",
          "name": "stdout",
          "text": [
            "<class 'pandas.core.frame.DataFrame'>\n",
            "RangeIndex: 209 entries, 0 to 208\n",
            "Data columns (total 2 columns):\n",
            " #   Column  Non-Null Count  Dtype \n",
            "---  ------  --------------  ----- \n",
            " 0   Date    209 non-null    object\n",
            " 1   Sales   209 non-null    int64 \n",
            "dtypes: int64(1), object(1)\n",
            "memory usage: 3.4+ KB\n"
          ]
        }
      ]
    },
    {
      "cell_type": "markdown",
      "metadata": {
        "id": "LbujxMc3IBZb"
      },
      "source": [
        "Checking if there is any null values in the dataset "
      ]
    },
    {
      "cell_type": "code",
      "metadata": {
        "colab": {
          "base_uri": "https://localhost:8080/"
        },
        "id": "zSRBODI-geIU",
        "outputId": "50a8b407-100c-44cb-d756-980a90f9618e"
      },
      "source": [
        "data.isnull().sum()"
      ],
      "execution_count": null,
      "outputs": [
        {
          "output_type": "execute_result",
          "data": {
            "text/plain": [
              "Date     0\n",
              "Sales    0\n",
              "dtype: int64"
            ]
          },
          "metadata": {},
          "execution_count": 8
        }
      ]
    },
    {
      "cell_type": "markdown",
      "metadata": {
        "id": "t_w6oqBCILiv"
      },
      "source": [
        "Our date column is of object data type, so we have to convert  into datetime column of pandas"
      ]
    },
    {
      "cell_type": "code",
      "metadata": {
        "id": "SGqsQ30ngVQq"
      },
      "source": [
        "data[\"Date\"] = pd.to_datetime(data[\"Date\"])"
      ],
      "execution_count": null,
      "outputs": []
    },
    {
      "cell_type": "markdown",
      "metadata": {
        "id": "Yp-I6i83Iv2o"
      },
      "source": [
        " Resetting the date column to the index"
      ]
    },
    {
      "cell_type": "code",
      "metadata": {
        "id": "_RUS8YKIgVS3"
      },
      "source": [
        "data.set_index('Date',inplace=True)"
      ],
      "execution_count": null,
      "outputs": []
    },
    {
      "cell_type": "code",
      "metadata": {
        "colab": {
          "base_uri": "https://localhost:8080/",
          "height": 234
        },
        "id": "vSWNc4-dgVV6",
        "outputId": "c0d7b802-ce3e-4f43-df9a-e7cee809b43b"
      },
      "source": [
        "# now checking how our dataset looks like\n",
        "data.head()"
      ],
      "execution_count": null,
      "outputs": [
        {
          "output_type": "execute_result",
          "data": {
            "text/html": [
              "<div>\n",
              "<style scoped>\n",
              "    .dataframe tbody tr th:only-of-type {\n",
              "        vertical-align: middle;\n",
              "    }\n",
              "\n",
              "    .dataframe tbody tr th {\n",
              "        vertical-align: top;\n",
              "    }\n",
              "\n",
              "    .dataframe thead th {\n",
              "        text-align: right;\n",
              "    }\n",
              "</style>\n",
              "<table border=\"1\" class=\"dataframe\">\n",
              "  <thead>\n",
              "    <tr style=\"text-align: right;\">\n",
              "      <th></th>\n",
              "      <th>Sales</th>\n",
              "    </tr>\n",
              "    <tr>\n",
              "      <th>Date</th>\n",
              "      <th></th>\n",
              "    </tr>\n",
              "  </thead>\n",
              "  <tbody>\n",
              "    <tr>\n",
              "      <th>2019-01-01</th>\n",
              "      <td>120</td>\n",
              "    </tr>\n",
              "    <tr>\n",
              "      <th>2019-01-02</th>\n",
              "      <td>316</td>\n",
              "    </tr>\n",
              "    <tr>\n",
              "      <th>2019-01-03</th>\n",
              "      <td>302</td>\n",
              "    </tr>\n",
              "    <tr>\n",
              "      <th>2019-01-04</th>\n",
              "      <td>334</td>\n",
              "    </tr>\n",
              "    <tr>\n",
              "      <th>2019-01-05</th>\n",
              "      <td>189</td>\n",
              "    </tr>\n",
              "  </tbody>\n",
              "</table>\n",
              "</div>"
            ],
            "text/plain": [
              "            Sales\n",
              "Date             \n",
              "2019-01-01    120\n",
              "2019-01-02    316\n",
              "2019-01-03    302\n",
              "2019-01-04    334\n",
              "2019-01-05    189"
            ]
          },
          "metadata": {},
          "execution_count": 11
        }
      ]
    },
    {
      "cell_type": "code",
      "metadata": {
        "colab": {
          "base_uri": "https://localhost:8080/",
          "height": 234
        },
        "id": "7aRT1emTq5ZI",
        "outputId": "dcda6bfb-a866-4b15-ec43-bd50cedff8a3"
      },
      "source": [
        "# Also checking last 5 rows of our dataset\n",
        "data.tail()"
      ],
      "execution_count": null,
      "outputs": [
        {
          "output_type": "execute_result",
          "data": {
            "text/html": [
              "<div>\n",
              "<style scoped>\n",
              "    .dataframe tbody tr th:only-of-type {\n",
              "        vertical-align: middle;\n",
              "    }\n",
              "\n",
              "    .dataframe tbody tr th {\n",
              "        vertical-align: top;\n",
              "    }\n",
              "\n",
              "    .dataframe thead th {\n",
              "        text-align: right;\n",
              "    }\n",
              "</style>\n",
              "<table border=\"1\" class=\"dataframe\">\n",
              "  <thead>\n",
              "    <tr style=\"text-align: right;\">\n",
              "      <th></th>\n",
              "      <th>Sales</th>\n",
              "    </tr>\n",
              "    <tr>\n",
              "      <th>Date</th>\n",
              "      <th></th>\n",
              "    </tr>\n",
              "  </thead>\n",
              "  <tbody>\n",
              "    <tr>\n",
              "      <th>2019-07-27</th>\n",
              "      <td>158</td>\n",
              "    </tr>\n",
              "    <tr>\n",
              "      <th>2019-07-28</th>\n",
              "      <td>73</td>\n",
              "    </tr>\n",
              "    <tr>\n",
              "      <th>2019-07-29</th>\n",
              "      <td>160</td>\n",
              "    </tr>\n",
              "    <tr>\n",
              "      <th>2019-07-30</th>\n",
              "      <td>146</td>\n",
              "    </tr>\n",
              "    <tr>\n",
              "      <th>2019-07-31</th>\n",
              "      <td>178</td>\n",
              "    </tr>\n",
              "  </tbody>\n",
              "</table>\n",
              "</div>"
            ],
            "text/plain": [
              "            Sales\n",
              "Date             \n",
              "2019-07-27    158\n",
              "2019-07-28     73\n",
              "2019-07-29    160\n",
              "2019-07-30    146\n",
              "2019-07-31    178"
            ]
          },
          "metadata": {},
          "execution_count": 12
        }
      ]
    },
    {
      "cell_type": "markdown",
      "metadata": {
        "id": "Sz9cHUniJx6a"
      },
      "source": [
        "## Descriptive statistics of our dataset"
      ]
    },
    {
      "cell_type": "code",
      "metadata": {
        "colab": {
          "base_uri": "https://localhost:8080/",
          "height": 295
        },
        "id": "mEziY3IYqNEd",
        "outputId": "56aca75a-db3b-49e4-a0d2-5d2a5fda8eda"
      },
      "source": [
        "data.describe()"
      ],
      "execution_count": null,
      "outputs": [
        {
          "output_type": "execute_result",
          "data": {
            "text/html": [
              "<div>\n",
              "<style scoped>\n",
              "    .dataframe tbody tr th:only-of-type {\n",
              "        vertical-align: middle;\n",
              "    }\n",
              "\n",
              "    .dataframe tbody tr th {\n",
              "        vertical-align: top;\n",
              "    }\n",
              "\n",
              "    .dataframe thead th {\n",
              "        text-align: right;\n",
              "    }\n",
              "</style>\n",
              "<table border=\"1\" class=\"dataframe\">\n",
              "  <thead>\n",
              "    <tr style=\"text-align: right;\">\n",
              "      <th></th>\n",
              "      <th>Sales</th>\n",
              "    </tr>\n",
              "  </thead>\n",
              "  <tbody>\n",
              "    <tr>\n",
              "      <th>count</th>\n",
              "      <td>209.000000</td>\n",
              "    </tr>\n",
              "    <tr>\n",
              "      <th>mean</th>\n",
              "      <td>155.200957</td>\n",
              "    </tr>\n",
              "    <tr>\n",
              "      <th>std</th>\n",
              "      <td>97.312037</td>\n",
              "    </tr>\n",
              "    <tr>\n",
              "      <th>min</th>\n",
              "      <td>0.000000</td>\n",
              "    </tr>\n",
              "    <tr>\n",
              "      <th>25%</th>\n",
              "      <td>85.000000</td>\n",
              "    </tr>\n",
              "    <tr>\n",
              "      <th>50%</th>\n",
              "      <td>126.000000</td>\n",
              "    </tr>\n",
              "    <tr>\n",
              "      <th>75%</th>\n",
              "      <td>210.000000</td>\n",
              "    </tr>\n",
              "    <tr>\n",
              "      <th>max</th>\n",
              "      <td>403.000000</td>\n",
              "    </tr>\n",
              "  </tbody>\n",
              "</table>\n",
              "</div>"
            ],
            "text/plain": [
              "            Sales\n",
              "count  209.000000\n",
              "mean   155.200957\n",
              "std     97.312037\n",
              "min      0.000000\n",
              "25%     85.000000\n",
              "50%    126.000000\n",
              "75%    210.000000\n",
              "max    403.000000"
            ]
          },
          "metadata": {},
          "execution_count": 13
        }
      ]
    },
    {
      "cell_type": "markdown",
      "metadata": {
        "id": "R54vco1AJ4fg"
      },
      "source": [
        "**Plotting our time series data**"
      ]
    },
    {
      "cell_type": "code",
      "metadata": {
        "colab": {
          "base_uri": "https://localhost:8080/",
          "height": 312
        },
        "id": "G4AXoSPTgVX6",
        "outputId": "7ca74d91-c73d-45f1-ed91-6da37ab5bb1d"
      },
      "source": [
        "plt.figure(figsize=(10,4))\n",
        "plt.plot(data)\n",
        "plt.xlabel(\"Time\")\n",
        "plt.ylabel(\"Sales\")\n",
        "plt.title(\"Time series of Sales\")"
      ],
      "execution_count": null,
      "outputs": [
        {
          "output_type": "execute_result",
          "data": {
            "text/plain": [
              "Text(0.5, 1.0, 'Time series of Sales')"
            ]
          },
          "metadata": {},
          "execution_count": 14
        },
        {
          "output_type": "display_data",
          "data": {
            "image/png": "[encoded data removed]",
            "text/plain": [
              "<Figure size 720x288 with 1 Axes>"
            ]
          },
          "metadata": {
            "needs_background": "light"
          }
        }
      ]
    },
    {
      "cell_type": "markdown",
      "metadata": {
        "id": "w7Zs_sOm_spW"
      },
      "source": [
        "## **Checking Seasonability and doing differencing for further making SARIMA model**"
      ]
    },
    {
      "cell_type": "markdown",
      "metadata": {
        "id": "hcln6eMLYihz"
      },
      "source": [
        "We are checking our the stationary condition by doing Augmented Dickey Fuller Test"
      ]
    },
    {
      "cell_type": "code",
      "metadata": {
        "id": "0VrcDzKcgVZK"
      },
      "source": [
        "from statsmodels.tsa.stattools import adfuller"
      ],
      "execution_count": null,
      "outputs": []
    },
    {
      "cell_type": "code",
      "metadata": {
        "id": "BlPaxSL-gVb7"
      },
      "source": [
        "test_result=adfuller(data['Sales'])"
      ],
      "execution_count": null,
      "outputs": []
    },
    {
      "cell_type": "markdown",
      "metadata": {
        "id": "YfH81dMQGJJJ"
      },
      "source": [
        "In dickey fuller test, we use the concept of Hypothesis testing. Setting the null condidtion to be non stationary and alternative conditon to be stationary.\n",
        "###Ho: It is non stationary\n",
        "###H1: It is stationary\n",
        "\n",
        "If p vale is less than the significance value of 0.05(5%) then we reject our null hypothesis and accept the alternative hypothesis that is 'our time series is Stationary'\n",
        "\n",
        "\n"
      ]
    },
    {
      "cell_type": "code",
      "metadata": {
        "id": "fvKdgpUJgVei"
      },
      "source": [
        "def adfuller_test(sales):\n",
        "    result=adfuller(sales)\n",
        "    labels = ['ADF Test Statistic','p-value','#Lags Used','Number of Observations Used']\n",
        "    for value,label in zip(result,labels):\n",
        "        print(label+' : '+str(value) )"
      ],
      "execution_count": null,
      "outputs": []
    },
    {
      "cell_type": "code",
      "metadata": {
        "colab": {
          "base_uri": "https://localhost:8080/"
        },
        "id": "WWD-mLVGkS4S",
        "outputId": "2151d8c4-d67e-418c-8e97-83285b1202a7"
      },
      "source": [
        "adfuller_test(data['Sales'])"
      ],
      "execution_count": null,
      "outputs": [
        {
          "output_type": "stream",
          "name": "stdout",
          "text": [
            "ADF Test Statistic : -2.060247771431202\n",
            "p-value : 0.2607965270867544\n",
            "#Lags Used : 14\n",
            "Number of Observations Used : 194\n"
          ]
        }
      ]
    },
    {
      "cell_type": "markdown",
      "metadata": {
        "id": "cO-GXbWKHHt-"
      },
      "source": [
        "Simple checking the model our p-value>0.05, so our time series is not stationary"
      ]
    },
    {
      "cell_type": "markdown",
      "metadata": {
        "id": "uTjxhlZ_ImF4"
      },
      "source": [
        "## Doing first difference on our dataset and storing it into another column "
      ]
    },
    {
      "cell_type": "code",
      "metadata": {
        "id": "APabQJAJkUqd"
      },
      "source": [
        "data['Seasonal First Difference']=data['Sales']-data['Sales'].shift(1)"
      ],
      "execution_count": null,
      "outputs": []
    },
    {
      "cell_type": "code",
      "metadata": {
        "colab": {
          "base_uri": "https://localhost:8080/",
          "height": 234
        },
        "id": "M-AnUYufkz2H",
        "outputId": "20c98197-000d-4ddd-ffe0-cb7cca13ae46"
      },
      "source": [
        "data.head()"
      ],
      "execution_count": null,
      "outputs": [
        {
          "output_type": "execute_result",
          "data": {
            "text/html": [
              "<div>\n",
              "<style scoped>\n",
              "    .dataframe tbody tr th:only-of-type {\n",
              "        vertical-align: middle;\n",
              "    }\n",
              "\n",
              "    .dataframe tbody tr th {\n",
              "        vertical-align: top;\n",
              "    }\n",
              "\n",
              "    .dataframe thead th {\n",
              "        text-align: right;\n",
              "    }\n",
              "</style>\n",
              "<table border=\"1\" class=\"dataframe\">\n",
              "  <thead>\n",
              "    <tr style=\"text-align: right;\">\n",
              "      <th></th>\n",
              "      <th>Sales</th>\n",
              "      <th>Seasonal First Difference</th>\n",
              "    </tr>\n",
              "    <tr>\n",
              "      <th>Date</th>\n",
              "      <th></th>\n",
              "      <th></th>\n",
              "    </tr>\n",
              "  </thead>\n",
              "  <tbody>\n",
              "    <tr>\n",
              "      <th>2019-01-01</th>\n",
              "      <td>120</td>\n",
              "      <td>NaN</td>\n",
              "    </tr>\n",
              "    <tr>\n",
              "      <th>2019-01-02</th>\n",
              "      <td>316</td>\n",
              "      <td>196.0</td>\n",
              "    </tr>\n",
              "    <tr>\n",
              "      <th>2019-01-03</th>\n",
              "      <td>302</td>\n",
              "      <td>-14.0</td>\n",
              "    </tr>\n",
              "    <tr>\n",
              "      <th>2019-01-04</th>\n",
              "      <td>334</td>\n",
              "      <td>32.0</td>\n",
              "    </tr>\n",
              "    <tr>\n",
              "      <th>2019-01-05</th>\n",
              "      <td>189</td>\n",
              "      <td>-145.0</td>\n",
              "    </tr>\n",
              "  </tbody>\n",
              "</table>\n",
              "</div>"
            ],
            "text/plain": [
              "            Sales  Seasonal First Difference\n",
              "Date                                        \n",
              "2019-01-01    120                        NaN\n",
              "2019-01-02    316                      196.0\n",
              "2019-01-03    302                      -14.0\n",
              "2019-01-04    334                       32.0\n",
              "2019-01-05    189                     -145.0"
            ]
          },
          "metadata": {},
          "execution_count": 20
        }
      ]
    },
    {
      "cell_type": "code",
      "metadata": {
        "colab": {
          "base_uri": "https://localhost:8080/"
        },
        "id": "SwEr2m4Fk20F",
        "outputId": "5f02fcfc-1c73-4e70-83e7-c52760e4130b"
      },
      "source": [
        "# Applying aft\n",
        "adfuller_test(data['Seasonal First Difference'].dropna())"
      ],
      "execution_count": null,
      "outputs": [
        {
          "output_type": "stream",
          "name": "stdout",
          "text": [
            "ADF Test Statistic : -5.271714504129817\n",
            "p-value : 6.264822316138901e-06\n",
            "#Lags Used : 13\n",
            "Number of Observations Used : 194\n"
          ]
        }
      ]
    },
    {
      "cell_type": "markdown",
      "metadata": {
        "id": "x32hpGF3HouW"
      },
      "source": [
        "In the difference our p-value>0.05, so our time series is not stationary"
      ]
    },
    {
      "cell_type": "code",
      "metadata": {
        "colab": {
          "base_uri": "https://localhost:8080/",
          "height": 591
        },
        "id": "5gE03srWk7RC",
        "outputId": "146518ab-cf38-421f-fdf4-a230a902b7e6"
      },
      "source": [
        "plt.figure(figsize=(15,10))\n",
        "data['Seasonal First Difference'].plot()"
      ],
      "execution_count": null,
      "outputs": [
        {
          "output_type": "execute_result",
          "data": {
            "text/plain": [
              "<matplotlib.axes._subplots.AxesSubplot at 0x7f8a56a6d210>"
            ]
          },
          "metadata": {},
          "execution_count": 22
        },
        {
          "output_type": "display_data",
          "data": {
            "image/png": "[encoded data removed]",
            "text/plain": [
              "<Figure size 1080x720 with 1 Axes>"
            ]
          },
          "metadata": {
            "needs_background": "light"
          }
        }
      ]
    },
    {
      "cell_type": "markdown",
      "metadata": {
        "id": "3N4U8x1CI0eP"
      },
      "source": [
        "Doing second difference on our dataset and storing it into another column "
      ]
    },
    {
      "cell_type": "code",
      "metadata": {
        "id": "iudyD4_rsvFY"
      },
      "source": [
        "data['Seasonal Second Difference']=data['Sales']-data['Sales'].shift(2)"
      ],
      "execution_count": null,
      "outputs": []
    },
    {
      "cell_type": "code",
      "metadata": {
        "colab": {
          "base_uri": "https://localhost:8080/"
        },
        "id": "CCh7G8ThsvM9",
        "outputId": "c9a12ce9-68cf-41ac-baa3-5800aa53d39b"
      },
      "source": [
        "adfuller_test(data['Seasonal Second Difference'].dropna())"
      ],
      "execution_count": null,
      "outputs": [
        {
          "output_type": "stream",
          "name": "stdout",
          "text": [
            "ADF Test Statistic : -4.030214925064485\n",
            "p-value : 0.0012603041340792872\n",
            "#Lags Used : 15\n",
            "Number of Observations Used : 191\n"
          ]
        }
      ]
    },
    {
      "cell_type": "markdown",
      "metadata": {
        "id": "IBy7zIKTH00O"
      },
      "source": [
        "Ont second difference, our p-value<0.05, so our time series is stationary"
      ]
    },
    {
      "cell_type": "markdown",
      "metadata": {
        "id": "ppqfV9S2IGQY"
      },
      "source": [
        "## Plotting Autocorrelation and Partial Autocorrelation plots "
      ]
    },
    {
      "cell_type": "code",
      "metadata": {
        "colab": {
          "base_uri": "https://localhost:8080/",
          "height": 533
        },
        "id": "PIeh9PsHJ6U8",
        "outputId": "a104fba4-04e8-4692-ee6e-152d526c09c2"
      },
      "source": [
        "fig = plt.figure(figsize=(12,8))\n",
        "ax1 = fig.add_subplot(211)\n",
        "fig = sm.graphics.tsa.plot_acf(data['Seasonal Second Difference'].iloc[3:],lags=20,ax=ax1)\n",
        "ax2 = fig.add_subplot(212)\n",
        "fig = sm.graphics.tsa.plot_pacf(data['Seasonal Second Difference'].iloc[3:],lags=20,ax=ax2)"
      ],
      "execution_count": null,
      "outputs": [
        {
          "output_type": "stream",
          "name": "stderr",
          "text": [
            "/usr/local/lib/python3.7/dist-packages/statsmodels/regression/linear_model.py:1358: RuntimeWarning: invalid value encountered in sqrt\n",
            "  return rho, np.sqrt(sigmasq)\n"
          ]
        },
        {
          "output_type": "display_data",
          "data": {
            "image/png": "[encoded data removed]",
            "text/plain": [
              "<Figure size 864x576 with 2 Axes>"
            ]
          },
          "metadata": {
            "needs_background": "light"
          }
        }
      ]
    },
    {
      "cell_type": "code",
      "metadata": {
        "colab": {
          "base_uri": "https://localhost:8080/",
          "height": 592
        },
        "id": "80e0yI9msvZO",
        "outputId": "875aca04-dae0-4e60-c3a6-0787568c0266"
      },
      "source": [
        "plt.figure(figsize=(15,10))\n",
        "data['Seasonal Second Difference'].plot()"
      ],
      "execution_count": null,
      "outputs": [
        {
          "output_type": "execute_result",
          "data": {
            "text/plain": [
              "<matplotlib.axes._subplots.AxesSubplot at 0x7f8a559c9610>"
            ]
          },
          "metadata": {},
          "execution_count": 26
        },
        {
          "output_type": "display_data",
          "data": {
            "image/png": "[encoded data removed]",
            "text/plain": [
              "<Figure size 1080x720 with 1 Axes>"
            ]
          },
          "metadata": {
            "needs_background": "light"
          }
        }
      ]
    },
    {
      "cell_type": "code",
      "metadata": {
        "colab": {
          "base_uri": "https://localhost:8080/",
          "height": 388
        },
        "id": "tjv2w4hVA2V3",
        "outputId": "41a6ae27-9763-4299-989d-870095e2bc78"
      },
      "source": [
        "data.head(10)"
      ],
      "execution_count": null,
      "outputs": [
        {
          "output_type": "execute_result",
          "data": {
            "text/html": [
              "<div>\n",
              "<style scoped>\n",
              "    .dataframe tbody tr th:only-of-type {\n",
              "        vertical-align: middle;\n",
              "    }\n",
              "\n",
              "    .dataframe tbody tr th {\n",
              "        vertical-align: top;\n",
              "    }\n",
              "\n",
              "    .dataframe thead th {\n",
              "        text-align: right;\n",
              "    }\n",
              "</style>\n",
              "<table border=\"1\" class=\"dataframe\">\n",
              "  <thead>\n",
              "    <tr style=\"text-align: right;\">\n",
              "      <th></th>\n",
              "      <th>Sales</th>\n",
              "      <th>Seasonal First Difference</th>\n",
              "      <th>Seasonal Second Difference</th>\n",
              "    </tr>\n",
              "    <tr>\n",
              "      <th>Date</th>\n",
              "      <th></th>\n",
              "      <th></th>\n",
              "      <th></th>\n",
              "    </tr>\n",
              "  </thead>\n",
              "  <tbody>\n",
              "    <tr>\n",
              "      <th>2019-01-01</th>\n",
              "      <td>120</td>\n",
              "      <td>NaN</td>\n",
              "      <td>NaN</td>\n",
              "    </tr>\n",
              "    <tr>\n",
              "      <th>2019-01-02</th>\n",
              "      <td>316</td>\n",
              "      <td>196.0</td>\n",
              "      <td>NaN</td>\n",
              "    </tr>\n",
              "    <tr>\n",
              "      <th>2019-01-03</th>\n",
              "      <td>302</td>\n",
              "      <td>-14.0</td>\n",
              "      <td>182.0</td>\n",
              "    </tr>\n",
              "    <tr>\n",
              "      <th>2019-01-04</th>\n",
              "      <td>334</td>\n",
              "      <td>32.0</td>\n",
              "      <td>18.0</td>\n",
              "    </tr>\n",
              "    <tr>\n",
              "      <th>2019-01-05</th>\n",
              "      <td>189</td>\n",
              "      <td>-145.0</td>\n",
              "      <td>-113.0</td>\n",
              "    </tr>\n",
              "    <tr>\n",
              "      <th>2019-01-06</th>\n",
              "      <td>109</td>\n",
              "      <td>-80.0</td>\n",
              "      <td>-225.0</td>\n",
              "    </tr>\n",
              "    <tr>\n",
              "      <th>2019-01-07</th>\n",
              "      <td>352</td>\n",
              "      <td>243.0</td>\n",
              "      <td>163.0</td>\n",
              "    </tr>\n",
              "    <tr>\n",
              "      <th>2019-01-08</th>\n",
              "      <td>361</td>\n",
              "      <td>9.0</td>\n",
              "      <td>252.0</td>\n",
              "    </tr>\n",
              "    <tr>\n",
              "      <th>2019-01-09</th>\n",
              "      <td>369</td>\n",
              "      <td>8.0</td>\n",
              "      <td>17.0</td>\n",
              "    </tr>\n",
              "    <tr>\n",
              "      <th>2019-01-10</th>\n",
              "      <td>393</td>\n",
              "      <td>24.0</td>\n",
              "      <td>32.0</td>\n",
              "    </tr>\n",
              "  </tbody>\n",
              "</table>\n",
              "</div>"
            ],
            "text/plain": [
              "            Sales  Seasonal First Difference  Seasonal Second Difference\n",
              "Date                                                                    \n",
              "2019-01-01    120                        NaN                         NaN\n",
              "2019-01-02    316                      196.0                         NaN\n",
              "2019-01-03    302                      -14.0                       182.0\n",
              "2019-01-04    334                       32.0                        18.0\n",
              "2019-01-05    189                     -145.0                      -113.0\n",
              "2019-01-06    109                      -80.0                      -225.0\n",
              "2019-01-07    352                      243.0                       163.0\n",
              "2019-01-08    361                        9.0                       252.0\n",
              "2019-01-09    369                        8.0                        17.0\n",
              "2019-01-10    393                       24.0                        32.0"
            ]
          },
          "metadata": {},
          "execution_count": 27
        }
      ]
    },
    {
      "cell_type": "markdown",
      "metadata": {
        "id": "UZ5mgslgJF11"
      },
      "source": [
        "The Third order differencing gives us a Stationary time series data \n",
        "By visualizing the above acf and pacf plots, we can say that for only one time lag the correlation is effective and after it there is sudden decrease.\n",
        "We can say that our values of p,d and q are : p=1, d=2, q=1"
      ]
    },
    {
      "cell_type": "markdown",
      "metadata": {
        "id": "MglY9ptsakES"
      },
      "source": [
        "**Applying SARIMA Model**"
      ]
    },
    {
      "cell_type": "code",
      "metadata": {
        "id": "nVeGQvAycoeR"
      },
      "source": [
        "# Importing sarimax model\n",
        "from statsmodels.tsa.statespace.sarimax import SARIMAX"
      ],
      "execution_count": null,
      "outputs": []
    },
    {
      "cell_type": "markdown",
      "metadata": {
        "id": "uAmuJVCpMdGZ"
      },
      "source": [
        "In SARIMAX model we gives 2 inputs the order and seasonal_order.\n",
        "order has a form of (p,d,q) and seasonal_order is of form (p,d,q,m).\n",
        "Above we have learned the values of p,d and q. \n",
        "'m' is defined as the seasonal component.In our case 'm' values is 7, because we are seeing the pattern of seasonality in one week."
      ]
    },
    {
      "cell_type": "code",
      "metadata": {
        "id": "S67cOVHbh2_O"
      },
      "source": [
        "my_order = (1,2,1)\n",
        "my_seasonal_order = (1,2,1,7)"
      ],
      "execution_count": null,
      "outputs": []
    },
    {
      "cell_type": "code",
      "metadata": {
        "colab": {
          "base_uri": "https://localhost:8080/"
        },
        "id": "iGZrzayCcofw",
        "outputId": "9b37bbcc-874c-43c2-e175-fe22f55f3e0b"
      },
      "source": [
        "model = SARIMAX(data['Sales'], order=my_order, seasonal_order=my_seasonal_order)"
      ],
      "execution_count": null,
      "outputs": [
        {
          "output_type": "stream",
          "name": "stderr",
          "text": [
            "/usr/local/lib/python3.7/dist-packages/statsmodels/tsa/base/tsa_model.py:219: ValueWarning: A date index has been provided, but it has no associated frequency information and so will be ignored when e.g. forecasting.\n",
            "  ' ignored when e.g. forecasting.', ValueWarning)\n"
          ]
        }
      ]
    },
    {
      "cell_type": "code",
      "metadata": {
        "id": "NlbnYfPScohR"
      },
      "source": [
        "# Fitting the model\n",
        "model_fit = model.fit()"
      ],
      "execution_count": null,
      "outputs": []
    },
    {
      "cell_type": "markdown",
      "metadata": {
        "id": "X9D1ZyIUNZnH"
      },
      "source": [
        "Making prediction from index 150 to the last, for checking that our model is working perfectly or not."
      ]
    },
    {
      "cell_type": "code",
      "metadata": {
        "id": "bBO_smmNZdQZ",
        "colab": {
          "base_uri": "https://localhost:8080/"
        },
        "outputId": "e50d96f9-3099-4539-90d5-246f7a4f7567"
      },
      "source": [
        "# Storing the predictions in yhat\n",
        "yhat = model_fit.predict(start=150, end=len(data))"
      ],
      "execution_count": null,
      "outputs": [
        {
          "output_type": "stream",
          "name": "stderr",
          "text": [
            "/usr/local/lib/python3.7/dist-packages/statsmodels/tsa/base/tsa_model.py:576: ValueWarning: No supported index is available. Prediction results will be given with an integer index beginning at `start`.\n",
            "  ValueWarning)\n"
          ]
        }
      ]
    },
    {
      "cell_type": "code",
      "metadata": {
        "id": "cjKjgd1eq6EP"
      },
      "source": [
        "# Resetting the index\n",
        "yhat=yhat.reset_index()"
      ],
      "execution_count": null,
      "outputs": []
    },
    {
      "cell_type": "code",
      "metadata": {
        "colab": {
          "base_uri": "https://localhost:8080/",
          "height": 1000
        },
        "id": "naRNVC3k_xwY",
        "outputId": "e37809e3-ddcc-4d29-839e-1b051611d746"
      },
      "source": [
        "yhat"
      ],
      "execution_count": null,
      "outputs": [
        {
          "output_type": "execute_result",
          "data": {
            "text/html": [
              "<div>\n",
              "<style scoped>\n",
              "    .dataframe tbody tr th:only-of-type {\n",
              "        vertical-align: middle;\n",
              "    }\n",
              "\n",
              "    .dataframe tbody tr th {\n",
              "        vertical-align: top;\n",
              "    }\n",
              "\n",
              "    .dataframe thead th {\n",
              "        text-align: right;\n",
              "    }\n",
              "</style>\n",
              "<table border=\"1\" class=\"dataframe\">\n",
              "  <thead>\n",
              "    <tr style=\"text-align: right;\">\n",
              "      <th></th>\n",
              "      <th>index</th>\n",
              "      <th>0</th>\n",
              "    </tr>\n",
              "  </thead>\n",
              "  <tbody>\n",
              "    <tr>\n",
              "      <th>0</th>\n",
              "      <td>150</td>\n",
              "      <td>110.368909</td>\n",
              "    </tr>\n",
              "    <tr>\n",
              "      <th>1</th>\n",
              "      <td>151</td>\n",
              "      <td>86.834295</td>\n",
              "    </tr>\n",
              "    <tr>\n",
              "      <th>2</th>\n",
              "      <td>152</td>\n",
              "      <td>87.008983</td>\n",
              "    </tr>\n",
              "    <tr>\n",
              "      <th>3</th>\n",
              "      <td>153</td>\n",
              "      <td>98.534263</td>\n",
              "    </tr>\n",
              "    <tr>\n",
              "      <th>4</th>\n",
              "      <td>154</td>\n",
              "      <td>58.816484</td>\n",
              "    </tr>\n",
              "    <tr>\n",
              "      <th>5</th>\n",
              "      <td>155</td>\n",
              "      <td>27.752718</td>\n",
              "    </tr>\n",
              "    <tr>\n",
              "      <th>6</th>\n",
              "      <td>156</td>\n",
              "      <td>11.211342</td>\n",
              "    </tr>\n",
              "    <tr>\n",
              "      <th>7</th>\n",
              "      <td>157</td>\n",
              "      <td>103.607386</td>\n",
              "    </tr>\n",
              "    <tr>\n",
              "      <th>8</th>\n",
              "      <td>158</td>\n",
              "      <td>97.800789</td>\n",
              "    </tr>\n",
              "    <tr>\n",
              "      <th>9</th>\n",
              "      <td>159</td>\n",
              "      <td>119.955807</td>\n",
              "    </tr>\n",
              "    <tr>\n",
              "      <th>10</th>\n",
              "      <td>160</td>\n",
              "      <td>103.141635</td>\n",
              "    </tr>\n",
              "    <tr>\n",
              "      <th>11</th>\n",
              "      <td>161</td>\n",
              "      <td>94.063103</td>\n",
              "    </tr>\n",
              "    <tr>\n",
              "      <th>12</th>\n",
              "      <td>162</td>\n",
              "      <td>45.185594</td>\n",
              "    </tr>\n",
              "    <tr>\n",
              "      <th>13</th>\n",
              "      <td>163</td>\n",
              "      <td>31.608662</td>\n",
              "    </tr>\n",
              "    <tr>\n",
              "      <th>14</th>\n",
              "      <td>164</td>\n",
              "      <td>102.215441</td>\n",
              "    </tr>\n",
              "    <tr>\n",
              "      <th>15</th>\n",
              "      <td>165</td>\n",
              "      <td>185.844014</td>\n",
              "    </tr>\n",
              "    <tr>\n",
              "      <th>16</th>\n",
              "      <td>166</td>\n",
              "      <td>174.021929</td>\n",
              "    </tr>\n",
              "    <tr>\n",
              "      <th>17</th>\n",
              "      <td>167</td>\n",
              "      <td>101.462778</td>\n",
              "    </tr>\n",
              "    <tr>\n",
              "      <th>18</th>\n",
              "      <td>168</td>\n",
              "      <td>125.731871</td>\n",
              "    </tr>\n",
              "    <tr>\n",
              "      <th>19</th>\n",
              "      <td>169</td>\n",
              "      <td>93.878772</td>\n",
              "    </tr>\n",
              "    <tr>\n",
              "      <th>20</th>\n",
              "      <td>170</td>\n",
              "      <td>48.581360</td>\n",
              "    </tr>\n",
              "    <tr>\n",
              "      <th>21</th>\n",
              "      <td>171</td>\n",
              "      <td>133.905339</td>\n",
              "    </tr>\n",
              "    <tr>\n",
              "      <th>22</th>\n",
              "      <td>172</td>\n",
              "      <td>174.787476</td>\n",
              "    </tr>\n",
              "    <tr>\n",
              "      <th>23</th>\n",
              "      <td>173</td>\n",
              "      <td>94.972450</td>\n",
              "    </tr>\n",
              "    <tr>\n",
              "      <th>24</th>\n",
              "      <td>174</td>\n",
              "      <td>83.303132</td>\n",
              "    </tr>\n",
              "    <tr>\n",
              "      <th>25</th>\n",
              "      <td>175</td>\n",
              "      <td>130.007994</td>\n",
              "    </tr>\n",
              "    <tr>\n",
              "      <th>26</th>\n",
              "      <td>176</td>\n",
              "      <td>61.900180</td>\n",
              "    </tr>\n",
              "    <tr>\n",
              "      <th>27</th>\n",
              "      <td>177</td>\n",
              "      <td>9.732948</td>\n",
              "    </tr>\n",
              "    <tr>\n",
              "      <th>28</th>\n",
              "      <td>178</td>\n",
              "      <td>174.417540</td>\n",
              "    </tr>\n",
              "    <tr>\n",
              "      <th>29</th>\n",
              "      <td>179</td>\n",
              "      <td>104.531263</td>\n",
              "    </tr>\n",
              "    <tr>\n",
              "      <th>30</th>\n",
              "      <td>180</td>\n",
              "      <td>84.128088</td>\n",
              "    </tr>\n",
              "    <tr>\n",
              "      <th>31</th>\n",
              "      <td>181</td>\n",
              "      <td>70.443363</td>\n",
              "    </tr>\n",
              "    <tr>\n",
              "      <th>32</th>\n",
              "      <td>182</td>\n",
              "      <td>124.337573</td>\n",
              "    </tr>\n",
              "    <tr>\n",
              "      <th>33</th>\n",
              "      <td>183</td>\n",
              "      <td>127.464504</td>\n",
              "    </tr>\n",
              "    <tr>\n",
              "      <th>34</th>\n",
              "      <td>184</td>\n",
              "      <td>45.568102</td>\n",
              "    </tr>\n",
              "    <tr>\n",
              "      <th>35</th>\n",
              "      <td>185</td>\n",
              "      <td>143.990133</td>\n",
              "    </tr>\n",
              "    <tr>\n",
              "      <th>36</th>\n",
              "      <td>186</td>\n",
              "      <td>129.921331</td>\n",
              "    </tr>\n",
              "    <tr>\n",
              "      <th>37</th>\n",
              "      <td>187</td>\n",
              "      <td>137.820790</td>\n",
              "    </tr>\n",
              "    <tr>\n",
              "      <th>38</th>\n",
              "      <td>188</td>\n",
              "      <td>143.287786</td>\n",
              "    </tr>\n",
              "    <tr>\n",
              "      <th>39</th>\n",
              "      <td>189</td>\n",
              "      <td>168.196528</td>\n",
              "    </tr>\n",
              "    <tr>\n",
              "      <th>40</th>\n",
              "      <td>190</td>\n",
              "      <td>49.959480</td>\n",
              "    </tr>\n",
              "    <tr>\n",
              "      <th>41</th>\n",
              "      <td>191</td>\n",
              "      <td>53.911461</td>\n",
              "    </tr>\n",
              "    <tr>\n",
              "      <th>42</th>\n",
              "      <td>192</td>\n",
              "      <td>131.776747</td>\n",
              "    </tr>\n",
              "    <tr>\n",
              "      <th>43</th>\n",
              "      <td>193</td>\n",
              "      <td>161.590775</td>\n",
              "    </tr>\n",
              "    <tr>\n",
              "      <th>44</th>\n",
              "      <td>194</td>\n",
              "      <td>158.727889</td>\n",
              "    </tr>\n",
              "    <tr>\n",
              "      <th>45</th>\n",
              "      <td>195</td>\n",
              "      <td>211.074055</td>\n",
              "    </tr>\n",
              "    <tr>\n",
              "      <th>46</th>\n",
              "      <td>196</td>\n",
              "      <td>327.013615</td>\n",
              "    </tr>\n",
              "    <tr>\n",
              "      <th>47</th>\n",
              "      <td>197</td>\n",
              "      <td>110.122079</td>\n",
              "    </tr>\n",
              "    <tr>\n",
              "      <th>48</th>\n",
              "      <td>198</td>\n",
              "      <td>109.516722</td>\n",
              "    </tr>\n",
              "    <tr>\n",
              "      <th>49</th>\n",
              "      <td>199</td>\n",
              "      <td>248.414285</td>\n",
              "    </tr>\n",
              "    <tr>\n",
              "      <th>50</th>\n",
              "      <td>200</td>\n",
              "      <td>163.055304</td>\n",
              "    </tr>\n",
              "    <tr>\n",
              "      <th>51</th>\n",
              "      <td>201</td>\n",
              "      <td>190.081557</td>\n",
              "    </tr>\n",
              "    <tr>\n",
              "      <th>52</th>\n",
              "      <td>202</td>\n",
              "      <td>228.239920</td>\n",
              "    </tr>\n",
              "    <tr>\n",
              "      <th>53</th>\n",
              "      <td>203</td>\n",
              "      <td>154.540987</td>\n",
              "    </tr>\n",
              "    <tr>\n",
              "      <th>54</th>\n",
              "      <td>204</td>\n",
              "      <td>167.794003</td>\n",
              "    </tr>\n",
              "    <tr>\n",
              "      <th>55</th>\n",
              "      <td>205</td>\n",
              "      <td>112.409712</td>\n",
              "    </tr>\n",
              "    <tr>\n",
              "      <th>56</th>\n",
              "      <td>206</td>\n",
              "      <td>174.211281</td>\n",
              "    </tr>\n",
              "    <tr>\n",
              "      <th>57</th>\n",
              "      <td>207</td>\n",
              "      <td>146.689373</td>\n",
              "    </tr>\n",
              "    <tr>\n",
              "      <th>58</th>\n",
              "      <td>208</td>\n",
              "      <td>218.944382</td>\n",
              "    </tr>\n",
              "    <tr>\n",
              "      <th>59</th>\n",
              "      <td>209</td>\n",
              "      <td>266.696242</td>\n",
              "    </tr>\n",
              "  </tbody>\n",
              "</table>\n",
              "</div>"
            ],
            "text/plain": [
              "    index           0\n",
              "0     150  110.368909\n",
              "1     151   86.834295\n",
              "2     152   87.008983\n",
              "3     153   98.534263\n",
              "4     154   58.816484\n",
              "5     155   27.752718\n",
              "6     156   11.211342\n",
              "7     157  103.607386\n",
              "8     158   97.800789\n",
              "9     159  119.955807\n",
              "10    160  103.141635\n",
              "11    161   94.063103\n",
              "12    162   45.185594\n",
              "13    163   31.608662\n",
              "14    164  102.215441\n",
              "15    165  185.844014\n",
              "16    166  174.021929\n",
              "17    167  101.462778\n",
              "18    168  125.731871\n",
              "19    169   93.878772\n",
              "20    170   48.581360\n",
              "21    171  133.905339\n",
              "22    172  174.787476\n",
              "23    173   94.972450\n",
              "24    174   83.303132\n",
              "25    175  130.007994\n",
              "26    176   61.900180\n",
              "27    177    9.732948\n",
              "28    178  174.417540\n",
              "29    179  104.531263\n",
              "30    180   84.128088\n",
              "31    181   70.443363\n",
              "32    182  124.337573\n",
              "33    183  127.464504\n",
              "34    184   45.568102\n",
              "35    185  143.990133\n",
              "36    186  129.921331\n",
              "37    187  137.820790\n",
              "38    188  143.287786\n",
              "39    189  168.196528\n",
              "40    190   49.959480\n",
              "41    191   53.911461\n",
              "42    192  131.776747\n",
              "43    193  161.590775\n",
              "44    194  158.727889\n",
              "45    195  211.074055\n",
              "46    196  327.013615\n",
              "47    197  110.122079\n",
              "48    198  109.516722\n",
              "49    199  248.414285\n",
              "50    200  163.055304\n",
              "51    201  190.081557\n",
              "52    202  228.239920\n",
              "53    203  154.540987\n",
              "54    204  167.794003\n",
              "55    205  112.409712\n",
              "56    206  174.211281\n",
              "57    207  146.689373\n",
              "58    208  218.944382\n",
              "59    209  266.696242"
            ]
          },
          "metadata": {},
          "execution_count": 34
        }
      ]
    },
    {
      "cell_type": "markdown",
      "metadata": {
        "id": "VwWmcz4PKjAO"
      },
      "source": [
        "storing the original values from index 150 to last in variable y"
      ]
    },
    {
      "cell_type": "code",
      "metadata": {
        "id": "t-vULHeVZdUx"
      },
      "source": [
        "y = data['Sales'][150:].values"
      ],
      "execution_count": null,
      "outputs": []
    },
    {
      "cell_type": "code",
      "metadata": {
        "colab": {
          "base_uri": "https://localhost:8080/"
        },
        "id": "NPaSz5blqDvg",
        "outputId": "25a871ea-3788-496c-e603-16d38329a3fd"
      },
      "source": [
        "y"
      ],
      "execution_count": null,
      "outputs": [
        {
          "output_type": "execute_result",
          "data": {
            "text/plain": [
              "array([ 78,  70,  74,  75,  94,  54,  25,  82, 126,  96,  75,  87,  69,\n",
              "        34, 173, 162, 110, 109, 127,  72,  18, 151, 106, 124, 111,  93,\n",
              "        55,  32,  97, 100,  91, 139, 195,  56,  42, 135, 123, 136, 142,\n",
              "       139,  82,  35, 168, 135, 213, 317, 158, 175, 114, 148, 133, 178,\n",
              "       239, 207, 158,  73, 160, 146, 178])"
            ]
          },
          "metadata": {},
          "execution_count": 36
        }
      ]
    },
    {
      "cell_type": "code",
      "metadata": {
        "id": "iun9Ozi5qc6a"
      },
      "source": [
        "# Making new dataframe\n",
        "df = pd.DataFrame()"
      ],
      "execution_count": null,
      "outputs": []
    },
    {
      "cell_type": "code",
      "metadata": {
        "id": "KrK2_7dQqc9-"
      },
      "source": [
        "df['y']=y"
      ],
      "execution_count": null,
      "outputs": []
    },
    {
      "cell_type": "code",
      "metadata": {
        "id": "u2-oePpl9l9q"
      },
      "source": [
        "df['yhat'] = yhat[0]"
      ],
      "execution_count": null,
      "outputs": []
    },
    {
      "cell_type": "code",
      "metadata": {
        "colab": {
          "base_uri": "https://localhost:8080/",
          "height": 1000
        },
        "id": "Ye0TlT-gqdB6",
        "outputId": "dc1810bc-c0f4-42b9-894b-bad11e6b6877"
      },
      "source": [
        "df"
      ],
      "execution_count": null,
      "outputs": [
        {
          "output_type": "execute_result",
          "data": {
            "text/html": [
              "<div>\n",
              "<style scoped>\n",
              "    .dataframe tbody tr th:only-of-type {\n",
              "        vertical-align: middle;\n",
              "    }\n",
              "\n",
              "    .dataframe tbody tr th {\n",
              "        vertical-align: top;\n",
              "    }\n",
              "\n",
              "    .dataframe thead th {\n",
              "        text-align: right;\n",
              "    }\n",
              "</style>\n",
              "<table border=\"1\" class=\"dataframe\">\n",
              "  <thead>\n",
              "    <tr style=\"text-align: right;\">\n",
              "      <th></th>\n",
              "      <th>y</th>\n",
              "      <th>yhat</th>\n",
              "    </tr>\n",
              "  </thead>\n",
              "  <tbody>\n",
              "    <tr>\n",
              "      <th>0</th>\n",
              "      <td>78</td>\n",
              "      <td>110.368909</td>\n",
              "    </tr>\n",
              "    <tr>\n",
              "      <th>1</th>\n",
              "      <td>70</td>\n",
              "      <td>86.834295</td>\n",
              "    </tr>\n",
              "    <tr>\n",
              "      <th>2</th>\n",
              "      <td>74</td>\n",
              "      <td>87.008983</td>\n",
              "    </tr>\n",
              "    <tr>\n",
              "      <th>3</th>\n",
              "      <td>75</td>\n",
              "      <td>98.534263</td>\n",
              "    </tr>\n",
              "    <tr>\n",
              "      <th>4</th>\n",
              "      <td>94</td>\n",
              "      <td>58.816484</td>\n",
              "    </tr>\n",
              "    <tr>\n",
              "      <th>5</th>\n",
              "      <td>54</td>\n",
              "      <td>27.752718</td>\n",
              "    </tr>\n",
              "    <tr>\n",
              "      <th>6</th>\n",
              "      <td>25</td>\n",
              "      <td>11.211342</td>\n",
              "    </tr>\n",
              "    <tr>\n",
              "      <th>7</th>\n",
              "      <td>82</td>\n",
              "      <td>103.607386</td>\n",
              "    </tr>\n",
              "    <tr>\n",
              "      <th>8</th>\n",
              "      <td>126</td>\n",
              "      <td>97.800789</td>\n",
              "    </tr>\n",
              "    <tr>\n",
              "      <th>9</th>\n",
              "      <td>96</td>\n",
              "      <td>119.955807</td>\n",
              "    </tr>\n",
              "    <tr>\n",
              "      <th>10</th>\n",
              "      <td>75</td>\n",
              "      <td>103.141635</td>\n",
              "    </tr>\n",
              "    <tr>\n",
              "      <th>11</th>\n",
              "      <td>87</td>\n",
              "      <td>94.063103</td>\n",
              "    </tr>\n",
              "    <tr>\n",
              "      <th>12</th>\n",
              "      <td>69</td>\n",
              "      <td>45.185594</td>\n",
              "    </tr>\n",
              "    <tr>\n",
              "      <th>13</th>\n",
              "      <td>34</td>\n",
              "      <td>31.608662</td>\n",
              "    </tr>\n",
              "    <tr>\n",
              "      <th>14</th>\n",
              "      <td>173</td>\n",
              "      <td>102.215441</td>\n",
              "    </tr>\n",
              "    <tr>\n",
              "      <th>15</th>\n",
              "      <td>162</td>\n",
              "      <td>185.844014</td>\n",
              "    </tr>\n",
              "    <tr>\n",
              "      <th>16</th>\n",
              "      <td>110</td>\n",
              "      <td>174.021929</td>\n",
              "    </tr>\n",
              "    <tr>\n",
              "      <th>17</th>\n",
              "      <td>109</td>\n",
              "      <td>101.462778</td>\n",
              "    </tr>\n",
              "    <tr>\n",
              "      <th>18</th>\n",
              "      <td>127</td>\n",
              "      <td>125.731871</td>\n",
              "    </tr>\n",
              "    <tr>\n",
              "      <th>19</th>\n",
              "      <td>72</td>\n",
              "      <td>93.878772</td>\n",
              "    </tr>\n",
              "    <tr>\n",
              "      <th>20</th>\n",
              "      <td>18</td>\n",
              "      <td>48.581360</td>\n",
              "    </tr>\n",
              "    <tr>\n",
              "      <th>21</th>\n",
              "      <td>151</td>\n",
              "      <td>133.905339</td>\n",
              "    </tr>\n",
              "    <tr>\n",
              "      <th>22</th>\n",
              "      <td>106</td>\n",
              "      <td>174.787476</td>\n",
              "    </tr>\n",
              "    <tr>\n",
              "      <th>23</th>\n",
              "      <td>124</td>\n",
              "      <td>94.972450</td>\n",
              "    </tr>\n",
              "    <tr>\n",
              "      <th>24</th>\n",
              "      <td>111</td>\n",
              "      <td>83.303132</td>\n",
              "    </tr>\n",
              "    <tr>\n",
              "      <th>25</th>\n",
              "      <td>93</td>\n",
              "      <td>130.007994</td>\n",
              "    </tr>\n",
              "    <tr>\n",
              "      <th>26</th>\n",
              "      <td>55</td>\n",
              "      <td>61.900180</td>\n",
              "    </tr>\n",
              "    <tr>\n",
              "      <th>27</th>\n",
              "      <td>32</td>\n",
              "      <td>9.732948</td>\n",
              "    </tr>\n",
              "    <tr>\n",
              "      <th>28</th>\n",
              "      <td>97</td>\n",
              "      <td>174.417540</td>\n",
              "    </tr>\n",
              "    <tr>\n",
              "      <th>29</th>\n",
              "      <td>100</td>\n",
              "      <td>104.531263</td>\n",
              "    </tr>\n",
              "    <tr>\n",
              "      <th>30</th>\n",
              "      <td>91</td>\n",
              "      <td>84.128088</td>\n",
              "    </tr>\n",
              "    <tr>\n",
              "      <th>31</th>\n",
              "      <td>139</td>\n",
              "      <td>70.443363</td>\n",
              "    </tr>\n",
              "    <tr>\n",
              "      <th>32</th>\n",
              "      <td>195</td>\n",
              "      <td>124.337573</td>\n",
              "    </tr>\n",
              "    <tr>\n",
              "      <th>33</th>\n",
              "      <td>56</td>\n",
              "      <td>127.464504</td>\n",
              "    </tr>\n",
              "    <tr>\n",
              "      <th>34</th>\n",
              "      <td>42</td>\n",
              "      <td>45.568102</td>\n",
              "    </tr>\n",
              "    <tr>\n",
              "      <th>35</th>\n",
              "      <td>135</td>\n",
              "      <td>143.990133</td>\n",
              "    </tr>\n",
              "    <tr>\n",
              "      <th>36</th>\n",
              "      <td>123</td>\n",
              "      <td>129.921331</td>\n",
              "    </tr>\n",
              "    <tr>\n",
              "      <th>37</th>\n",
              "      <td>136</td>\n",
              "      <td>137.820790</td>\n",
              "    </tr>\n",
              "    <tr>\n",
              "      <th>38</th>\n",
              "      <td>142</td>\n",
              "      <td>143.287786</td>\n",
              "    </tr>\n",
              "    <tr>\n",
              "      <th>39</th>\n",
              "      <td>139</td>\n",
              "      <td>168.196528</td>\n",
              "    </tr>\n",
              "    <tr>\n",
              "      <th>40</th>\n",
              "      <td>82</td>\n",
              "      <td>49.959480</td>\n",
              "    </tr>\n",
              "    <tr>\n",
              "      <th>41</th>\n",
              "      <td>35</td>\n",
              "      <td>53.911461</td>\n",
              "    </tr>\n",
              "    <tr>\n",
              "      <th>42</th>\n",
              "      <td>168</td>\n",
              "      <td>131.776747</td>\n",
              "    </tr>\n",
              "    <tr>\n",
              "      <th>43</th>\n",
              "      <td>135</td>\n",
              "      <td>161.590775</td>\n",
              "    </tr>\n",
              "    <tr>\n",
              "      <th>44</th>\n",
              "      <td>213</td>\n",
              "      <td>158.727889</td>\n",
              "    </tr>\n",
              "    <tr>\n",
              "      <th>45</th>\n",
              "      <td>317</td>\n",
              "      <td>211.074055</td>\n",
              "    </tr>\n",
              "    <tr>\n",
              "      <th>46</th>\n",
              "      <td>158</td>\n",
              "      <td>327.013615</td>\n",
              "    </tr>\n",
              "    <tr>\n",
              "      <th>47</th>\n",
              "      <td>175</td>\n",
              "      <td>110.122079</td>\n",
              "    </tr>\n",
              "    <tr>\n",
              "      <th>48</th>\n",
              "      <td>114</td>\n",
              "      <td>109.516722</td>\n",
              "    </tr>\n",
              "    <tr>\n",
              "      <th>49</th>\n",
              "      <td>148</td>\n",
              "      <td>248.414285</td>\n",
              "    </tr>\n",
              "    <tr>\n",
              "      <th>50</th>\n",
              "      <td>133</td>\n",
              "      <td>163.055304</td>\n",
              "    </tr>\n",
              "    <tr>\n",
              "      <th>51</th>\n",
              "      <td>178</td>\n",
              "      <td>190.081557</td>\n",
              "    </tr>\n",
              "    <tr>\n",
              "      <th>52</th>\n",
              "      <td>239</td>\n",
              "      <td>228.239920</td>\n",
              "    </tr>\n",
              "    <tr>\n",
              "      <th>53</th>\n",
              "      <td>207</td>\n",
              "      <td>154.540987</td>\n",
              "    </tr>\n",
              "    <tr>\n",
              "      <th>54</th>\n",
              "      <td>158</td>\n",
              "      <td>167.794003</td>\n",
              "    </tr>\n",
              "    <tr>\n",
              "      <th>55</th>\n",
              "      <td>73</td>\n",
              "      <td>112.409712</td>\n",
              "    </tr>\n",
              "    <tr>\n",
              "      <th>56</th>\n",
              "      <td>160</td>\n",
              "      <td>174.211281</td>\n",
              "    </tr>\n",
              "    <tr>\n",
              "      <th>57</th>\n",
              "      <td>146</td>\n",
              "      <td>146.689373</td>\n",
              "    </tr>\n",
              "    <tr>\n",
              "      <th>58</th>\n",
              "      <td>178</td>\n",
              "      <td>218.944382</td>\n",
              "    </tr>\n",
              "  </tbody>\n",
              "</table>\n",
              "</div>"
            ],
            "text/plain": [
              "      y        yhat\n",
              "0    78  110.368909\n",
              "1    70   86.834295\n",
              "2    74   87.008983\n",
              "3    75   98.534263\n",
              "4    94   58.816484\n",
              "5    54   27.752718\n",
              "6    25   11.211342\n",
              "7    82  103.607386\n",
              "8   126   97.800789\n",
              "9    96  119.955807\n",
              "10   75  103.141635\n",
              "11   87   94.063103\n",
              "12   69   45.185594\n",
              "13   34   31.608662\n",
              "14  173  102.215441\n",
              "15  162  185.844014\n",
              "16  110  174.021929\n",
              "17  109  101.462778\n",
              "18  127  125.731871\n",
              "19   72   93.878772\n",
              "20   18   48.581360\n",
              "21  151  133.905339\n",
              "22  106  174.787476\n",
              "23  124   94.972450\n",
              "24  111   83.303132\n",
              "25   93  130.007994\n",
              "26   55   61.900180\n",
              "27   32    9.732948\n",
              "28   97  174.417540\n",
              "29  100  104.531263\n",
              "30   91   84.128088\n",
              "31  139   70.443363\n",
              "32  195  124.337573\n",
              "33   56  127.464504\n",
              "34   42   45.568102\n",
              "35  135  143.990133\n",
              "36  123  129.921331\n",
              "37  136  137.820790\n",
              "38  142  143.287786\n",
              "39  139  168.196528\n",
              "40   82   49.959480\n",
              "41   35   53.911461\n",
              "42  168  131.776747\n",
              "43  135  161.590775\n",
              "44  213  158.727889\n",
              "45  317  211.074055\n",
              "46  158  327.013615\n",
              "47  175  110.122079\n",
              "48  114  109.516722\n",
              "49  148  248.414285\n",
              "50  133  163.055304\n",
              "51  178  190.081557\n",
              "52  239  228.239920\n",
              "53  207  154.540987\n",
              "54  158  167.794003\n",
              "55   73  112.409712\n",
              "56  160  174.211281\n",
              "57  146  146.689373\n",
              "58  178  218.944382"
            ]
          },
          "metadata": {},
          "execution_count": 40
        }
      ]
    },
    {
      "cell_type": "markdown",
      "metadata": {
        "id": "MSpRyo5tK73W"
      },
      "source": [
        "## Plotting original and predicted sales values"
      ]
    },
    {
      "cell_type": "code",
      "metadata": {
        "colab": {
          "base_uri": "https://localhost:8080/",
          "height": 312
        },
        "id": "HwKEZVmMqdFp",
        "outputId": "2a6b9865-9887-4c87-fe3a-823a7421f40c"
      },
      "source": [
        "plt.figure(figsize=(10,4))\n",
        "plt.plot(df)\n",
        "plt.xlabel(\"Time period\")\n",
        "plt.ylabel(\"Sales\")\n",
        "plt.title(\"Comparing original and predicted value\")"
      ],
      "execution_count": null,
      "outputs": [
        {
          "output_type": "execute_result",
          "data": {
            "text/plain": [
              "Text(0.5, 1.0, 'Comparing original and predicted value')"
            ]
          },
          "metadata": {},
          "execution_count": 51
        },
        {
          "output_type": "display_data",
          "data": {
            "image/png": "[encoded data removed]",
            "text/plain": [
              "<Figure size 720x288 with 1 Axes>"
            ]
          },
          "metadata": {
            "needs_background": "light"
          }
        }
      ]
    },
    {
      "cell_type": "markdown",
      "metadata": {
        "id": "qtk0g7_xBL9Z"
      },
      "source": [
        "## **Forcasting for next 7 days**"
      ]
    },
    {
      "cell_type": "code",
      "metadata": {
        "colab": {
          "base_uri": "https://localhost:8080/"
        },
        "id": "RntpuWwnBQCE",
        "outputId": "9df76660-c454-4ee2-9dd4-83dc6c876d64"
      },
      "source": [
        "predictions = model_fit.forecast(7)"
      ],
      "execution_count": null,
      "outputs": [
        {
          "output_type": "stream",
          "name": "stderr",
          "text": [
            "/usr/local/lib/python3.7/dist-packages/statsmodels/tsa/base/tsa_model.py:576: ValueWarning: No supported index is available. Prediction results will be given with an integer index beginning at `start`.\n",
            "  ValueWarning)\n"
          ]
        }
      ]
    },
    {
      "cell_type": "code",
      "metadata": {
        "colab": {
          "base_uri": "https://localhost:8080/"
        },
        "id": "ZkuM1OeiBRKv",
        "outputId": "6acd14e4-3a8f-49f6-a16f-16075e3ec474"
      },
      "source": [
        "predictions"
      ],
      "execution_count": null,
      "outputs": [
        {
          "output_type": "execute_result",
          "data": {
            "text/plain": [
              "209    266.696242\n",
              "210    166.350304\n",
              "211    146.702145\n",
              "212     72.331552\n",
              "213    138.626018\n",
              "214    133.383331\n",
              "215    181.596495\n",
              "dtype: float64"
            ]
          },
          "metadata": {},
          "execution_count": 43
        }
      ]
    },
    {
      "cell_type": "code",
      "metadata": {
        "id": "saKY9cCABSvp"
      },
      "source": [
        "Forcasted = pd.DataFrame()"
      ],
      "execution_count": null,
      "outputs": []
    },
    {
      "cell_type": "code",
      "metadata": {
        "id": "v1F_eyzuDyTn"
      },
      "source": [
        "Forcasted['Predictions'] = predictions"
      ],
      "execution_count": null,
      "outputs": []
    },
    {
      "cell_type": "code",
      "metadata": {
        "id": "GS09ejTlD2a-"
      },
      "source": [
        "Forcasted['date'] = pd.date_range(start='8/1/2019', periods=len(Forcasted), freq='D')\n"
      ],
      "execution_count": null,
      "outputs": []
    },
    {
      "cell_type": "code",
      "metadata": {
        "colab": {
          "base_uri": "https://localhost:8080/",
          "height": 265
        },
        "id": "osG1CkSoEEH-",
        "outputId": "4251a930-b90a-4c8d-ca14-f249dba8660c"
      },
      "source": [
        "Forcasted"
      ],
      "execution_count": null,
      "outputs": [
        {
          "output_type": "execute_result",
          "data": {
            "text/html": [
              "<div>\n",
              "<style scoped>\n",
              "    .dataframe tbody tr th:only-of-type {\n",
              "        vertical-align: middle;\n",
              "    }\n",
              "\n",
              "    .dataframe tbody tr th {\n",
              "        vertical-align: top;\n",
              "    }\n",
              "\n",
              "    .dataframe thead th {\n",
              "        text-align: right;\n",
              "    }\n",
              "</style>\n",
              "<table border=\"1\" class=\"dataframe\">\n",
              "  <thead>\n",
              "    <tr style=\"text-align: right;\">\n",
              "      <th></th>\n",
              "      <th>Predictions</th>\n",
              "      <th>date</th>\n",
              "    </tr>\n",
              "  </thead>\n",
              "  <tbody>\n",
              "    <tr>\n",
              "      <th>209</th>\n",
              "      <td>266.696242</td>\n",
              "      <td>2019-08-01</td>\n",
              "    </tr>\n",
              "    <tr>\n",
              "      <th>210</th>\n",
              "      <td>166.350304</td>\n",
              "      <td>2019-08-02</td>\n",
              "    </tr>\n",
              "    <tr>\n",
              "      <th>211</th>\n",
              "      <td>146.702145</td>\n",
              "      <td>2019-08-03</td>\n",
              "    </tr>\n",
              "    <tr>\n",
              "      <th>212</th>\n",
              "      <td>72.331552</td>\n",
              "      <td>2019-08-04</td>\n",
              "    </tr>\n",
              "    <tr>\n",
              "      <th>213</th>\n",
              "      <td>138.626018</td>\n",
              "      <td>2019-08-05</td>\n",
              "    </tr>\n",
              "    <tr>\n",
              "      <th>214</th>\n",
              "      <td>133.383331</td>\n",
              "      <td>2019-08-06</td>\n",
              "    </tr>\n",
              "    <tr>\n",
              "      <th>215</th>\n",
              "      <td>181.596495</td>\n",
              "      <td>2019-08-07</td>\n",
              "    </tr>\n",
              "  </tbody>\n",
              "</table>\n",
              "</div>"
            ],
            "text/plain": [
              "     Predictions       date\n",
              "209   266.696242 2019-08-01\n",
              "210   166.350304 2019-08-02\n",
              "211   146.702145 2019-08-03\n",
              "212    72.331552 2019-08-04\n",
              "213   138.626018 2019-08-05\n",
              "214   133.383331 2019-08-06\n",
              "215   181.596495 2019-08-07"
            ]
          },
          "metadata": {},
          "execution_count": 47
        }
      ]
    },
    {
      "cell_type": "code",
      "metadata": {
        "id": "RE9-7E7FEFPf"
      },
      "source": [
        "Forcasted.set_index('date', inplace=True)"
      ],
      "execution_count": null,
      "outputs": []
    },
    {
      "cell_type": "code",
      "metadata": {
        "colab": {
          "base_uri": "https://localhost:8080/",
          "height": 295
        },
        "id": "KsWU0FLOETBC",
        "outputId": "499bec72-f119-4b28-978d-f0c80e298bef"
      },
      "source": [
        "Forcasted"
      ],
      "execution_count": null,
      "outputs": [
        {
          "output_type": "execute_result",
          "data": {
            "text/html": [
              "<div>\n",
              "<style scoped>\n",
              "    .dataframe tbody tr th:only-of-type {\n",
              "        vertical-align: middle;\n",
              "    }\n",
              "\n",
              "    .dataframe tbody tr th {\n",
              "        vertical-align: top;\n",
              "    }\n",
              "\n",
              "    .dataframe thead th {\n",
              "        text-align: right;\n",
              "    }\n",
              "</style>\n",
              "<table border=\"1\" class=\"dataframe\">\n",
              "  <thead>\n",
              "    <tr style=\"text-align: right;\">\n",
              "      <th></th>\n",
              "      <th>Predictions</th>\n",
              "    </tr>\n",
              "    <tr>\n",
              "      <th>date</th>\n",
              "      <th></th>\n",
              "    </tr>\n",
              "  </thead>\n",
              "  <tbody>\n",
              "    <tr>\n",
              "      <th>2019-08-01</th>\n",
              "      <td>266.696242</td>\n",
              "    </tr>\n",
              "    <tr>\n",
              "      <th>2019-08-02</th>\n",
              "      <td>166.350304</td>\n",
              "    </tr>\n",
              "    <tr>\n",
              "      <th>2019-08-03</th>\n",
              "      <td>146.702145</td>\n",
              "    </tr>\n",
              "    <tr>\n",
              "      <th>2019-08-04</th>\n",
              "      <td>72.331552</td>\n",
              "    </tr>\n",
              "    <tr>\n",
              "      <th>2019-08-05</th>\n",
              "      <td>138.626018</td>\n",
              "    </tr>\n",
              "    <tr>\n",
              "      <th>2019-08-06</th>\n",
              "      <td>133.383331</td>\n",
              "    </tr>\n",
              "    <tr>\n",
              "      <th>2019-08-07</th>\n",
              "      <td>181.596495</td>\n",
              "    </tr>\n",
              "  </tbody>\n",
              "</table>\n",
              "</div>"
            ],
            "text/plain": [
              "            Predictions\n",
              "date                   \n",
              "2019-08-01   266.696242\n",
              "2019-08-02   166.350304\n",
              "2019-08-03   146.702145\n",
              "2019-08-04    72.331552\n",
              "2019-08-05   138.626018\n",
              "2019-08-06   133.383331\n",
              "2019-08-07   181.596495"
            ]
          },
          "metadata": {},
          "execution_count": 49
        }
      ]
    },
    {
      "cell_type": "code",
      "metadata": {
        "id": "mVw2UudEEWGn"
      },
      "source": [
        ""
      ],
      "execution_count": null,
      "outputs": []
    }
  ]
}